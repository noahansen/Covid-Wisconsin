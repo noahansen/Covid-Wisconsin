{
 "cells": [
  {
   "cell_type": "code",
   "execution_count": 138,
   "metadata": {},
   "outputs": [],
   "source": [
    "from sklearn.linear_model import LinearRegression as LR\n",
    "from sklearn.metrics import explained_variance_score\n",
    "import pandas as pd \n",
    "import numpy as np\n",
    "import matplotlib\n",
    "import matplotlib.pyplot as plt\n",
    "from sklearn.model_selection import train_test_split"
   ]
  },
  {
   "cell_type": "code",
   "execution_count": 139,
   "metadata": {},
   "outputs": [],
   "source": [
    "# area = pd.read_csv(\"wi_land_area.csv\")"
   ]
  },
  {
   "cell_type": "code",
   "execution_count": 140,
   "metadata": {},
   "outputs": [],
   "source": [
    "# area = area.iloc[:,[0,23]] #most current measurement\n",
    "# area = area.iloc[3102:3174,:]\n",
    "# area = area.rename(columns={\"Areaname\": \"name\", \"LND110210D\": \"area\"}) \n",
    "\n",
    "# area['name'] = area['name'].str[:-4] #strip to just county name\n",
    "# area = area.set_index('name')"
   ]
  },
  {
   "cell_type": "code",
   "execution_count": 141,
   "metadata": {},
   "outputs": [],
   "source": [
    "# df = pd.read_csv(\"final_data_old\");\n",
    "\n",
    "# pd.set_option('display.max_rows', None)\n",
    "# pd.set_option('display.max_columns', None)\n",
    "# pd.set_option('display.width', None)"
   ]
  },
  {
   "cell_type": "code",
   "execution_count": 142,
   "metadata": {},
   "outputs": [],
   "source": [
    "# df = df.join(area, on = 'name')\n",
    "# del df['Unnamed: 0']\n",
    "# df['pop density'] = df['population']/df['area']\n",
    "# del df['area']"
   ]
  },
  {
   "cell_type": "code",
   "execution_count": 143,
   "metadata": {},
   "outputs": [],
   "source": [
    "# df.to_csv('final_data', index=False)\n"
   ]
  },
  {
   "cell_type": "code",
   "execution_count": 144,
   "metadata": {},
   "outputs": [
    {
     "data": {
      "text/html": [
       "<div>\n",
       "<style scoped>\n",
       "    .dataframe tbody tr th:only-of-type {\n",
       "        vertical-align: middle;\n",
       "    }\n",
       "\n",
       "    .dataframe tbody tr th {\n",
       "        vertical-align: top;\n",
       "    }\n",
       "\n",
       "    .dataframe thead th {\n",
       "        text-align: right;\n",
       "    }\n",
       "</style>\n",
       "<table border=\"1\" class=\"dataframe\">\n",
       "  <thead>\n",
       "    <tr style=\"text-align: right;\">\n",
       "      <th></th>\n",
       "      <th>name</th>\n",
       "      <th>positive</th>\n",
       "      <th>negative</th>\n",
       "      <th>deaths</th>\n",
       "      <th>total tests</th>\n",
       "      <th>percent positive</th>\n",
       "      <th>percent deaths</th>\n",
       "      <th>geometry</th>\n",
       "      <th>population</th>\n",
       "      <th>percent pop pos</th>\n",
       "      <th>percent pop tested</th>\n",
       "      <th>percent pop dead</th>\n",
       "      <th>pop density</th>\n",
       "    </tr>\n",
       "  </thead>\n",
       "  <tbody>\n",
       "    <tr>\n",
       "      <th>1</th>\n",
       "      <td>Brown</td>\n",
       "      <td>455.0</td>\n",
       "      <td>1499.0</td>\n",
       "      <td>2.0</td>\n",
       "      <td>1954</td>\n",
       "      <td>23.285568</td>\n",
       "      <td>0.438596</td>\n",
       "      <td>MULTIPOLYGON (((-88.2501192432117 44.679782277...</td>\n",
       "      <td>263378</td>\n",
       "      <td>0.172756</td>\n",
       "      <td>0.741899</td>\n",
       "      <td>0.000759</td>\n",
       "      <td>497.211682</td>\n",
       "    </tr>\n",
       "    <tr>\n",
       "      <th>2</th>\n",
       "      <td>Dane</td>\n",
       "      <td>387.0</td>\n",
       "      <td>7581.0</td>\n",
       "      <td>21.0</td>\n",
       "      <td>7968</td>\n",
       "      <td>4.856928</td>\n",
       "      <td>5.412371</td>\n",
       "      <td>POLYGON ((-89.0091453050261 43.2848380086325, ...</td>\n",
       "      <td>542364</td>\n",
       "      <td>0.071354</td>\n",
       "      <td>1.469124</td>\n",
       "      <td>0.003872</td>\n",
       "      <td>453.011927</td>\n",
       "    </tr>\n",
       "    <tr>\n",
       "      <th>3</th>\n",
       "      <td>Kenosha</td>\n",
       "      <td>294.0</td>\n",
       "      <td>1588.0</td>\n",
       "      <td>6.0</td>\n",
       "      <td>1882</td>\n",
       "      <td>15.621679</td>\n",
       "      <td>2.033898</td>\n",
       "      <td>MULTIPOLYGON (((-88.08397896563579 42.66991396...</td>\n",
       "      <td>169290</td>\n",
       "      <td>0.173666</td>\n",
       "      <td>1.111702</td>\n",
       "      <td>0.003544</td>\n",
       "      <td>622.412589</td>\n",
       "    </tr>\n",
       "    <tr>\n",
       "      <th>4</th>\n",
       "      <td>Waukesha</td>\n",
       "      <td>280.0</td>\n",
       "      <td>2944.0</td>\n",
       "      <td>14.0</td>\n",
       "      <td>3224</td>\n",
       "      <td>8.684864</td>\n",
       "      <td>4.982206</td>\n",
       "      <td>POLYGON ((-88.4179931201656 43.1947050295068, ...</td>\n",
       "      <td>403072</td>\n",
       "      <td>0.069466</td>\n",
       "      <td>0.799857</td>\n",
       "      <td>0.003473</td>\n",
       "      <td>733.431592</td>\n",
       "    </tr>\n",
       "    <tr>\n",
       "      <th>5</th>\n",
       "      <td>Racine</td>\n",
       "      <td>215.0</td>\n",
       "      <td>1592.0</td>\n",
       "      <td>10.0</td>\n",
       "      <td>1807</td>\n",
       "      <td>11.898174</td>\n",
       "      <td>4.629630</td>\n",
       "      <td>POLYGON ((-87.8263041676683 42.8422370717163, ...</td>\n",
       "      <td>196584</td>\n",
       "      <td>0.109368</td>\n",
       "      <td>0.919200</td>\n",
       "      <td>0.005087</td>\n",
       "      <td>591.230075</td>\n",
       "    </tr>\n",
       "    <tr>\n",
       "      <th>...</th>\n",
       "      <td>...</td>\n",
       "      <td>...</td>\n",
       "      <td>...</td>\n",
       "      <td>...</td>\n",
       "      <td>...</td>\n",
       "      <td>...</td>\n",
       "      <td>...</td>\n",
       "      <td>...</td>\n",
       "      <td>...</td>\n",
       "      <td>...</td>\n",
       "      <td>...</td>\n",
       "      <td>...</td>\n",
       "      <td>...</td>\n",
       "    </tr>\n",
       "    <tr>\n",
       "      <th>67</th>\n",
       "      <td>Langlade</td>\n",
       "      <td>0.0</td>\n",
       "      <td>78.0</td>\n",
       "      <td>0.0</td>\n",
       "      <td>78</td>\n",
       "      <td>0.000000</td>\n",
       "      <td>0.000000</td>\n",
       "      <td>POLYGON ((-89.046496579905 45.4644473488926, -...</td>\n",
       "      <td>19268</td>\n",
       "      <td>0.000000</td>\n",
       "      <td>0.404816</td>\n",
       "      <td>0.000000</td>\n",
       "      <td>22.130846</td>\n",
       "    </tr>\n",
       "    <tr>\n",
       "      <th>68</th>\n",
       "      <td>Lincoln</td>\n",
       "      <td>0.0</td>\n",
       "      <td>147.0</td>\n",
       "      <td>0.0</td>\n",
       "      <td>147</td>\n",
       "      <td>0.000000</td>\n",
       "      <td>0.000000</td>\n",
       "      <td>POLYGON ((-89.42483069372349 45.4671743249934,...</td>\n",
       "      <td>27689</td>\n",
       "      <td>0.000000</td>\n",
       "      <td>0.530897</td>\n",
       "      <td>0.000000</td>\n",
       "      <td>31.501644</td>\n",
       "    </tr>\n",
       "    <tr>\n",
       "      <th>69</th>\n",
       "      <td>Pepin</td>\n",
       "      <td>0.0</td>\n",
       "      <td>96.0</td>\n",
       "      <td>0.0</td>\n",
       "      <td>96</td>\n",
       "      <td>0.000000</td>\n",
       "      <td>0.000000</td>\n",
       "      <td>POLYGON ((-91.6503682463528 44.6836410605132, ...</td>\n",
       "      <td>7289</td>\n",
       "      <td>0.000000</td>\n",
       "      <td>1.317053</td>\n",
       "      <td>0.000000</td>\n",
       "      <td>31.420812</td>\n",
       "    </tr>\n",
       "    <tr>\n",
       "      <th>70</th>\n",
       "      <td>Taylor</td>\n",
       "      <td>0.0</td>\n",
       "      <td>79.0</td>\n",
       "      <td>0.0</td>\n",
       "      <td>79</td>\n",
       "      <td>0.000000</td>\n",
       "      <td>0.000000</td>\n",
       "      <td>POLYGON ((-90.04227986736051 45.3818742718075,...</td>\n",
       "      <td>20412</td>\n",
       "      <td>0.000000</td>\n",
       "      <td>0.387027</td>\n",
       "      <td>0.000000</td>\n",
       "      <td>20.937962</td>\n",
       "    </tr>\n",
       "    <tr>\n",
       "      <th>71</th>\n",
       "      <td>Vernon</td>\n",
       "      <td>0.0</td>\n",
       "      <td>314.0</td>\n",
       "      <td>0.0</td>\n",
       "      <td>314</td>\n",
       "      <td>0.000000</td>\n",
       "      <td>0.000000</td>\n",
       "      <td>POLYGON ((-90.31241072841379 43.6409959858177,...</td>\n",
       "      <td>30785</td>\n",
       "      <td>0.000000</td>\n",
       "      <td>1.019977</td>\n",
       "      <td>0.000000</td>\n",
       "      <td>38.890573</td>\n",
       "    </tr>\n",
       "  </tbody>\n",
       "</table>\n",
       "<p>71 rows × 13 columns</p>\n",
       "</div>"
      ],
      "text/plain": [
       "        name  positive  negative  deaths  total tests  percent positive  \\\n",
       "1      Brown     455.0    1499.0     2.0         1954         23.285568   \n",
       "2       Dane     387.0    7581.0    21.0         7968          4.856928   \n",
       "3    Kenosha     294.0    1588.0     6.0         1882         15.621679   \n",
       "4   Waukesha     280.0    2944.0    14.0         3224          8.684864   \n",
       "5     Racine     215.0    1592.0    10.0         1807         11.898174   \n",
       "..       ...       ...       ...     ...          ...               ...   \n",
       "67  Langlade       0.0      78.0     0.0           78          0.000000   \n",
       "68   Lincoln       0.0     147.0     0.0          147          0.000000   \n",
       "69     Pepin       0.0      96.0     0.0           96          0.000000   \n",
       "70    Taylor       0.0      79.0     0.0           79          0.000000   \n",
       "71    Vernon       0.0     314.0     0.0          314          0.000000   \n",
       "\n",
       "    percent deaths                                           geometry  \\\n",
       "1         0.438596  MULTIPOLYGON (((-88.2501192432117 44.679782277...   \n",
       "2         5.412371  POLYGON ((-89.0091453050261 43.2848380086325, ...   \n",
       "3         2.033898  MULTIPOLYGON (((-88.08397896563579 42.66991396...   \n",
       "4         4.982206  POLYGON ((-88.4179931201656 43.1947050295068, ...   \n",
       "5         4.629630  POLYGON ((-87.8263041676683 42.8422370717163, ...   \n",
       "..             ...                                                ...   \n",
       "67        0.000000  POLYGON ((-89.046496579905 45.4644473488926, -...   \n",
       "68        0.000000  POLYGON ((-89.42483069372349 45.4671743249934,...   \n",
       "69        0.000000  POLYGON ((-91.6503682463528 44.6836410605132, ...   \n",
       "70        0.000000  POLYGON ((-90.04227986736051 45.3818742718075,...   \n",
       "71        0.000000  POLYGON ((-90.31241072841379 43.6409959858177,...   \n",
       "\n",
       "    population  percent pop pos  percent pop tested  percent pop dead  \\\n",
       "1       263378         0.172756            0.741899          0.000759   \n",
       "2       542364         0.071354            1.469124          0.003872   \n",
       "3       169290         0.173666            1.111702          0.003544   \n",
       "4       403072         0.069466            0.799857          0.003473   \n",
       "5       196584         0.109368            0.919200          0.005087   \n",
       "..         ...              ...                 ...               ...   \n",
       "67       19268         0.000000            0.404816          0.000000   \n",
       "68       27689         0.000000            0.530897          0.000000   \n",
       "69        7289         0.000000            1.317053          0.000000   \n",
       "70       20412         0.000000            0.387027          0.000000   \n",
       "71       30785         0.000000            1.019977          0.000000   \n",
       "\n",
       "    pop density  \n",
       "1    497.211682  \n",
       "2    453.011927  \n",
       "3    622.412589  \n",
       "4    733.431592  \n",
       "5    591.230075  \n",
       "..          ...  \n",
       "67    22.130846  \n",
       "68    31.501644  \n",
       "69    31.420812  \n",
       "70    20.937962  \n",
       "71    38.890573  \n",
       "\n",
       "[71 rows x 13 columns]"
      ]
     },
     "execution_count": 144,
     "metadata": {},
     "output_type": "execute_result"
    }
   ],
   "source": [
    "df = pd.read_csv(\"final_data.csv\");\n",
    "df = df.drop(0)\n",
    "df"
   ]
  },
  {
   "cell_type": "code",
   "execution_count": 145,
   "metadata": {},
   "outputs": [],
   "source": [
    "matplotlib.rcParams[\"font.size\"] = 12\n",
    "\n",
    "def get_ax():\n",
    "    ax = plt.subplot()\n",
    "    ax.spines[\"top\"].set_visible(False)\n",
    "    ax.spines[\"right\"].set_visible(False)\n",
    "    return ax"
   ]
  },
  {
   "cell_type": "code",
   "execution_count": 146,
   "metadata": {
    "scrolled": false
   },
   "outputs": [],
   "source": [
    "df = df[df['positive'] > 2] #Limiting to counties where community spread is more likely"
   ]
  },
  {
   "cell_type": "code",
   "execution_count": 147,
   "metadata": {},
   "outputs": [],
   "source": [
    "train, test = train_test_split(df, test_size=0.3)"
   ]
  },
  {
   "cell_type": "code",
   "execution_count": 148,
   "metadata": {},
   "outputs": [
    {
     "data": {
      "text/plain": [
       "[<matplotlib.lines.Line2D at 0x7efce2ae5898>]"
      ]
     },
     "execution_count": 148,
     "metadata": {},
     "output_type": "execute_result"
    },
    {
     "data": {
      "image/png": "[encoded data removed]",
      "text/plain": [
       "<Figure size 432x288 with 1 Axes>"
      ]
     },
     "metadata": {
      "needs_background": "light"
     },
     "output_type": "display_data"
    }
   ],
   "source": [
    "X_train = df[[\"percent pop tested\"]].values.reshape(-1,1)\n",
    "y_train = df[[\"percent positive\"]].values.reshape(-1,1)\n",
    "\n",
    "r = LR()\n",
    "r.fit(X_train, y_train)\n",
    "\n",
    "slope = r.coef_[0]\n",
    "intercept = r.intercept_\n",
    "\n",
    "ax = get_ax()\n",
    "df.plot.scatter(ax = ax, x = \"percent pop tested\", y = \"percent positive\", s = 8, color = 'black', alpha = .8)\n",
    "ax.set_ylabel(\"Percent positive\")\n",
    "y0 = ax.get_xlim()[0] * slope + intercept\n",
    "y1 = ax.get_xlim()[1] * slope + intercept\n",
    "plt.plot(ax.get_xlim(),[y0,y1], color = 'red')\n",
    "# ax.set_xlim(-7)\n",
    "# ax.set_ylim(0)"
   ]
  },
  {
   "cell_type": "code",
   "execution_count": 149,
   "metadata": {},
   "outputs": [
    {
     "data": {
      "text/plain": [
       "[<matplotlib.lines.Line2D at 0x7efce2a5e5f8>]"
      ]
     },
     "execution_count": 149,
     "metadata": {},
     "output_type": "execute_result"
    },
    {
     "data": {
      "image/png": "[encoded data removed]",
      "text/plain": [
       "<Figure size 432x288 with 1 Axes>"
      ]
     },
     "metadata": {
      "needs_background": "light"
     },
     "output_type": "display_data"
    }
   ],
   "source": [
    "X_train = train[[\"population\"]].values.reshape(-1,1)\n",
    "y_train = train[[\"percent positive\"]].values.reshape(-1,1)\n",
    "\n",
    "r.fit(X_train, y_train)\n",
    "\n",
    "slope = r.coef_[0]\n",
    "intercept = r.intercept_\n",
    "\n",
    "ax = get_ax()\n",
    "train.plot.scatter(ax = ax, x = \"population\", y = \"percent positive\", s = 8, color = 'black', alpha = .7)\n",
    "ax.set_ylabel(\"Percent positive\")\n",
    "y0 = ax.get_xlim()[0] * slope + intercept\n",
    "y1 = ax.get_xlim()[1] * slope + intercept\n",
    "plt.plot(ax.get_xlim(),[y0,y1], color = 'red')\n"
   ]
  },
  {
   "cell_type": "code",
   "execution_count": 150,
   "metadata": {},
   "outputs": [
    {
     "data": {
      "text/plain": [
       "(0.132450845420784, 0.187789578823787)"
      ]
     },
     "execution_count": 150,
     "metadata": {},
     "output_type": "execute_result"
    }
   ],
   "source": [
    "X_test = test[[\"population\"]].values.reshape(-1,1)\n",
    "y_test = test[[\"percent positive\"]].values.reshape(-1,1)\n",
    "\n",
    "y_pred_train = r.predict(X_train)\n",
    "y_pred_test = r.predict(X_test)\n",
    "\n",
    "explained_variance_score(y_train, y_pred_train), explained_variance_score(y_test, y_pred_test) "
   ]
  },
  {
   "cell_type": "code",
   "execution_count": 151,
   "metadata": {},
   "outputs": [
    {
     "data": {
      "text/plain": [
       "[<matplotlib.lines.Line2D at 0x7efce292f0b8>]"
      ]
     },
     "execution_count": 151,
     "metadata": {},
     "output_type": "execute_result"
    },
    {
     "data": {
      "image/png": "[encoded data removed]",
      "text/plain": [
       "<Figure size 432x288 with 1 Axes>"
      ]
     },
     "metadata": {
      "needs_background": "light"
     },
     "output_type": "display_data"
    }
   ],
   "source": [
    "X_train = train[[\"percent pop tested\"]].values.reshape(-1,1)\n",
    "y_train = train[[\"percent pop pos\"]].values.reshape(-1,1)\n",
    "\n",
    "r.fit(X_train, y_train)\n",
    "\n",
    "slope = r.coef_[0]\n",
    "intercept = r.intercept_\n",
    "\n",
    "ax = get_ax()\n",
    "train.plot.scatter(ax = ax, x = \"percent pop tested\", y = \"percent pop pos\", s = 8, color = 'black', alpha = .8)\n",
    "ax.set_ylabel(\"Percent population positive\")\n",
    "y0 = ax.get_xlim()[0] * slope + intercept\n",
    "y1 = ax.get_xlim()[1] * slope + intercept\n",
    "plt.plot(ax.get_xlim(),[y0,y1], color = 'red')"
   ]
  },
  {
   "cell_type": "code",
   "execution_count": 152,
   "metadata": {},
   "outputs": [
    {
     "data": {
      "text/plain": [
       "(0.03001125838073815, 0.06458198718440344)"
      ]
     },
     "execution_count": 152,
     "metadata": {},
     "output_type": "execute_result"
    }
   ],
   "source": [
    "X_test = test[[\"percent pop tested\"]].values.reshape(-1,1)\n",
    "y_test = test[[\"percent pop pos\"]].values.reshape(-1,1)\n",
    "\n",
    "y_pred_train = r.predict(X_train)\n",
    "y_pred_test = r.predict(X_test)\n",
    "\n",
    "explained_variance_score(y_train, y_pred_train), explained_variance_score(y_test, y_pred_test) "
   ]
  },
  {
   "cell_type": "code",
   "execution_count": 153,
   "metadata": {},
   "outputs": [
    {
     "data": {
      "text/plain": [
       "array([0.01806474])"
      ]
     },
     "execution_count": 153,
     "metadata": {},
     "output_type": "execute_result"
    }
   ],
   "source": [
    "#outliers are densely populated cities like Milwaukee\n",
    "slope"
   ]
  },
  {
   "cell_type": "code",
   "execution_count": 157,
   "metadata": {},
   "outputs": [
    {
     "data": {
      "text/plain": [
       "array([0.00013173])"
      ]
     },
     "execution_count": 157,
     "metadata": {},
     "output_type": "execute_result"
    },
    {
     "data": {
      "image/png": "[encoded data removed]",
      "text/plain": [
       "<Figure size 432x288 with 1 Axes>"
      ]
     },
     "metadata": {
      "needs_background": "light"
     },
     "output_type": "display_data"
    }
   ],
   "source": [
    "X_train = train[[\"pop density\"]].values.reshape(-1,1)\n",
    "y_train = train[[\"percent pop pos\"]].values.reshape(-1,1)\n",
    "\n",
    "r.fit(X_train, y_train)\n",
    "\n",
    "slope = r.coef_[0]\n",
    "intercept = r.intercept_\n",
    "\n",
    "ax = get_ax()\n",
    "train.plot.scatter(ax = ax, x = \"pop density\", y = \"percent pop pos\", s = 8, color = 'black', alpha = .6)\n",
    "ax.set_ylabel(\"Percent population positive\")\n",
    "ax.set_xlabel(\"People per square mile\")\n",
    "y0 = ax.get_xlim()[0] * slope + intercept\n",
    "y1 = ax.get_xlim()[1] * slope + intercept\n",
    "plt.plot(ax.get_xlim(),[y0,y1], color = 'red')\n",
    "# ax.get_figure().savefig(\"regression1.svg\", bbox_inches=\"tight\")\n",
    "slope"
   ]
  },
  {
   "cell_type": "code",
   "execution_count": 155,
   "metadata": {},
   "outputs": [
    {
     "data": {
      "text/plain": [
       "(0.45872872141524346, 0.5200418155206599)"
      ]
     },
     "execution_count": 155,
     "metadata": {},
     "output_type": "execute_result"
    }
   ],
   "source": [
    "#line is best fit for population density and percent population positive\n",
    "X_test = test[[\"pop density\"]].values.reshape(-1,1)\n",
    "y_test = test[[\"percent pop pos\"]].values.reshape(-1,1)\n",
    "\n",
    "y_pred_train = r.predict(X_train)\n",
    "y_pred_test = r.predict(X_test)\n",
    "\n",
    "explained_variance_score(y_train, y_pred_train), explained_variance_score(y_test, y_pred_test) "
   ]
  },
  {
   "cell_type": "code",
   "execution_count": 156,
   "metadata": {},
   "outputs": [
    {
     "data": {
      "text/plain": [
       "[<matplotlib.lines.Line2D at 0x7efce2299fd0>]"
      ]
     },
     "execution_count": 156,
     "metadata": {},
     "output_type": "execute_result"
    },
    {
     "data": {
      "image/png": "[encoded data removed]",
      "text/plain": [
       "<Figure size 432x288 with 1 Axes>"
      ]
     },
     "metadata": {
      "needs_background": "light"
     },
     "output_type": "display_data"
    }
   ],
   "source": [
    "#trivial exmaple?\n",
    "X_train = train[[\"percent positive\"]].values.reshape(-1,1)\n",
    "y_train = train[[\"percent deaths\"]].values.reshape(-1,1)\n",
    "\n",
    "r.fit(X_train, y_train)\n",
    "\n",
    "slope = r.coef_[0]\n",
    "intercept = r.intercept_\n",
    "\n",
    "ax = get_ax()\n",
    "train.plot.scatter(ax = ax, x = \"percent deaths\", y = \"percent positive\", s = 8, color = 'black', alpha = .6)\n",
    "ax.set_ylabel(\"Percent population positive\")\n",
    "ax.set_xlabel(\"People per square mile\")\n",
    "y0 = ax.get_xlim()[0] * slope + intercept\n",
    "y1 = ax.get_xlim()[1] * slope + intercept\n",
    "plt.plot(ax.get_xlim(),[y0,y1], color = 'red')"
   ]
  }
 ],
 "metadata": {
  "kernelspec": {
   "display_name": "Python 3",
   "language": "python",
   "name": "python3"
  },
  "language_info": {
   "codemirror_mode": {
    "name": "ipython",
    "version": 3
   },
   "file_extension": ".py",
   "mimetype": "text/x-python",
   "name": "python",
   "nbconvert_exporter": "python",
   "pygments_lexer": "ipython3",
   "version": "3.6.9"
  }
 },
 "nbformat": 4,
 "nbformat_minor": 4
}
