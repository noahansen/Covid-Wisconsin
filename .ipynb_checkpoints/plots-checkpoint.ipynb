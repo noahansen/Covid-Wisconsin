{
 "cells": [
  {
   "cell_type": "code",
   "execution_count": null,
   "metadata": {},
   "outputs": [],
   "source": [
    "from sklearn.linear_model import LinearRegression as LR\n",
    "from sklearn.metrics import explained_variance_score\n",
    "import pandas as pd \n",
    "import numpy as np\n",
    "import matplotlib\n",
    "import matplotlib.pyplot as plt\n",
    "from sklearn.model_selection import train_test_split"
   ]
  },
  {
   "cell_type": "code",
   "execution_count": null,
   "metadata": {},
   "outputs": [],
   "source": [
    "# area = pd.read_csv(\"wi_land_area.csv\")"
   ]
  },
  {
   "cell_type": "code",
   "execution_count": null,
   "metadata": {},
   "outputs": [],
   "source": [
    "# area = area.iloc[:,[0,23]] #most current measurement\n",
    "# area = area.iloc[3102:3174,:]\n",
    "# area = area.rename(columns={\"Areaname\": \"name\", \"LND110210D\": \"area\"}) \n",
    "\n",
    "# area['name'] = area['name'].str[:-4] #strip to just county name\n",
    "# area = area.set_index('name')"
   ]
  },
  {
   "cell_type": "code",
   "execution_count": null,
   "metadata": {},
   "outputs": [],
   "source": [
    "# df = pd.read_csv(\"final_data_old\");\n",
    "\n",
    "# pd.set_option('display.max_rows', None)\n",
    "# pd.set_option('display.max_columns', None)\n",
    "# pd.set_option('display.width', None)"
   ]
  },
  {
   "cell_type": "code",
   "execution_count": null,
   "metadata": {},
   "outputs": [],
   "source": [
    "# df = df.join(area, on = 'name')\n",
    "# del df['Unnamed: 0']\n",
    "# df['pop density'] = df['population']/df['area']\n",
    "# del df['area']"
   ]
  },
  {
   "cell_type": "code",
   "execution_count": null,
   "metadata": {},
   "outputs": [],
   "source": [
    "# df.to_csv('final_data', index=False)\n"
   ]
  },
  {
   "cell_type": "code",
   "execution_count": null,
   "metadata": {},
   "outputs": [],
   "source": [
    "pd.read_csv(\"final_data.csv\");"
   ]
  },
  {
   "cell_type": "code",
   "execution_count": null,
   "metadata": {},
   "outputs": [],
   "source": []
  },
  {
   "cell_type": "code",
   "execution_count": null,
   "metadata": {},
   "outputs": [],
   "source": [
    "matplotlib.rcParams[\"font.size\"] = 12\n",
    "\n",
    "def get_ax():\n",
    "    ax = plt.subplot()\n",
    "    ax.spines[\"top\"].set_visible(False)\n",
    "    ax.spines[\"right\"].set_visible(False)\n",
    "    return ax"
   ]
  },
  {
   "cell_type": "code",
   "execution_count": null,
   "metadata": {
    "scrolled": false
   },
   "outputs": [],
   "source": [
    "df = df[df['positive'] > 2] #Limiting to counties where community spread is more likely"
   ]
  },
  {
   "cell_type": "code",
   "execution_count": null,
   "metadata": {},
   "outputs": [],
   "source": [
    "train, test = train_test_split(df, test_size=0.3)"
   ]
  },
  {
   "cell_type": "code",
   "execution_count": null,
   "metadata": {},
   "outputs": [],
   "source": [
    "X_train = df[[\"percent pop tested\"]].values.reshape(-1,1)\n",
    "y_train = df[[\"percent positive\"]].values.reshape(-1,1)\n",
    "\n",
    "r = LR()\n",
    "r.fit(X_train, y_train)\n",
    "\n",
    "slope = r.coef_[0]\n",
    "intercept = r.intercept_\n",
    "\n",
    "ax = get_ax()\n",
    "df.plot.scatter(ax = ax, x = \"percent pop tested\", y = \"percent positive\", s = 8, color = 'black', alpha = .8)\n",
    "ax.set_ylabel(\"Percent positive\")\n",
    "y0 = ax.get_xlim()[0] * slope + intercept\n",
    "y1 = ax.get_xlim()[1] * slope + intercept\n",
    "plt.plot(ax.get_xlim(),[y0,y1], color = 'red')\n",
    "# ax.set_xlim(-7)\n",
    "# ax.set_ylim(0)"
   ]
  },
  {
   "cell_type": "code",
   "execution_count": null,
   "metadata": {},
   "outputs": [],
   "source": [
    "X_train = train[[\"population\"]].values.reshape(-1,1)\n",
    "y_train = train[[\"percent positive\"]].values.reshape(-1,1)\n",
    "\n",
    "r.fit(X_train, y_train)\n",
    "\n",
    "slope = r.coef_[0]\n",
    "intercept = r.intercept_\n",
    "\n",
    "ax = get_ax()\n",
    "train.plot.scatter(ax = ax, x = \"population\", y = \"percent positive\", s = 8, color = 'black', alpha = .7)\n",
    "ax.set_ylabel(\"Percent positive\")\n",
    "y0 = ax.get_xlim()[0] * slope + intercept\n",
    "y1 = ax.get_xlim()[1] * slope + intercept\n",
    "plt.plot(ax.get_xlim(),[y0,y1], color = 'red')\n"
   ]
  },
  {
   "cell_type": "code",
   "execution_count": null,
   "metadata": {},
   "outputs": [],
   "source": [
    "X_test = test[[\"population\"]].values.reshape(-1,1)\n",
    "y_test = test[[\"percent positive\"]].values.reshape(-1,1)\n",
    "\n",
    "y_pred_train = r.predict(X_train)\n",
    "y_pred_test = r.predict(X_test)\n",
    "\n",
    "explained_variance_score(y_train, y_pred_train), explained_variance_score(y_test, y_pred_test) "
   ]
  },
  {
   "cell_type": "code",
   "execution_count": null,
   "metadata": {},
   "outputs": [],
   "source": [
    "X_train = train[[\"percent pop tested\"]].values.reshape(-1,1)\n",
    "y_train = train[[\"percent pop pos\"]].values.reshape(-1,1)\n",
    "\n",
    "r.fit(X_train, y_train)\n",
    "\n",
    "slope = r.coef_[0]\n",
    "intercept = r.intercept_\n",
    "\n",
    "ax = get_ax()\n",
    "train.plot.scatter(ax = ax, x = \"percent pop tested\", y = \"percent pop pos\", s = 8, color = 'black', alpha = .8)\n",
    "ax.set_ylabel(\"Percent population positive\")\n",
    "y0 = ax.get_xlim()[0] * slope + intercept\n",
    "y1 = ax.get_xlim()[1] * slope + intercept\n",
    "plt.plot(ax.get_xlim(),[y0,y1], color = 'red')"
   ]
  },
  {
   "cell_type": "code",
   "execution_count": null,
   "metadata": {},
   "outputs": [],
   "source": [
    "X_test = test[[\"percent pop tested\"]].values.reshape(-1,1)\n",
    "y_test = test[[\"percent pop pos\"]].values.reshape(-1,1)\n",
    "\n",
    "y_pred_train = r.predict(X_train)\n",
    "y_pred_test = r.predict(X_test)\n",
    "\n",
    "explained_variance_score(y_train, y_pred_train), explained_variance_score(y_test, y_pred_test) "
   ]
  },
  {
   "cell_type": "code",
   "execution_count": null,
   "metadata": {},
   "outputs": [],
   "source": [
    "#outliers are densely populated cities like Milwaukee\n",
    "slope"
   ]
  },
  {
   "cell_type": "code",
   "execution_count": null,
   "metadata": {},
   "outputs": [],
   "source": [
    "X_train = train[[\"pop density\"]].values.reshape(-1,1)\n",
    "y_train = train[[\"percent pop pos\"]].values.reshape(-1,1)\n",
    "\n",
    "r.fit(X_train, y_train)\n",
    "\n",
    "slope = r.coef_[0]\n",
    "intercept = r.intercept_\n",
    "\n",
    "ax = get_ax()\n",
    "train.plot.scatter(ax = ax, x = \"pop density\", y = \"percent pop pos\", s = 8, color = 'black', alpha = .6)\n",
    "ax.set_ylabel(\"Percent population positive\")\n",
    "ax.set_xlabel(\"People per square mile\")\n",
    "y0 = ax.get_xlim()[0] * slope + intercept\n",
    "y1 = ax.get_xlim()[1] * slope + intercept\n",
    "plt.plot(ax.get_xlim(),[y0,y1], color = 'red')"
   ]
  },
  {
   "cell_type": "code",
   "execution_count": null,
   "metadata": {},
   "outputs": [],
   "source": [
    "#line is best fit for population density and percent population positive\n",
    "X_test = test[[\"pop density\"]].values.reshape(-1,1)\n",
    "y_test = test[[\"percent pop pos\"]].values.reshape(-1,1)\n",
    "\n",
    "y_pred_train = r.predict(X_train)\n",
    "y_pred_test = r.predict(X_test)\n",
    "\n",
    "explained_variance_score(y_train, y_pred_train), explained_variance_score(y_test, y_pred_test) "
   ]
  },
  {
   "cell_type": "code",
   "execution_count": null,
   "metadata": {},
   "outputs": [],
   "source": [
    "#trivial exmaple?\n",
    "X_train = train[[\"percent positive\"]].values.reshape(-1,1)\n",
    "y_train = train[[\"percent deaths\"]].values.reshape(-1,1)\n",
    "\n",
    "r.fit(X_train, y_train)\n",
    "\n",
    "slope = r.coef_[0]\n",
    "intercept = r.intercept_\n",
    "\n",
    "ax = get_ax()\n",
    "train.plot.scatter(ax = ax, x = \"percent deaths\", y = \"percent positive\", s = 8, color = 'black', alpha = .6)\n",
    "ax.set_ylabel(\"Percent population positive\")\n",
    "ax.set_xlabel(\"People per square mile\")\n",
    "y0 = ax.get_xlim()[0] * slope + intercept\n",
    "y1 = ax.get_xlim()[1] * slope + intercept\n",
    "plt.plot(ax.get_xlim(),[y0,y1], color = 'red')"
   ]
  }
 ],
 "metadata": {
  "kernelspec": {
   "display_name": "Python 3",
   "language": "python",
   "name": "python3"
  },
  "language_info": {
   "codemirror_mode": {
    "name": "ipython",
    "version": 3
   },
   "file_extension": ".py",
   "mimetype": "text/x-python",
   "name": "python",
   "nbconvert_exporter": "python",
   "pygments_lexer": "ipython3",
   "version": "3.6.9"
  }
 },
 "nbformat": 4,
 "nbformat_minor": 4
}
